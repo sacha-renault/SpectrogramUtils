{
 "cells": [
  {
   "cell_type": "markdown",
   "metadata": {},
   "source": [
    "## Clean and build"
   ]
  },
  {
   "cell_type": "markdown",
   "metadata": {},
   "source": [
    "#### Linux"
   ]
  },
  {
   "cell_type": "code",
   "execution_count": null,
   "metadata": {},
   "outputs": [],
   "source": [
    "!rm build\n",
    "!rm dist \n",
    "!rmdir src/SpectrogramUtils.egg-info\n",
    "!python3 setup.py sdist bdist_wheel"
   ]
  },
  {
   "cell_type": "markdown",
   "metadata": {},
   "source": [
    "#### Windows"
   ]
  },
  {
   "cell_type": "code",
   "execution_count": 11,
   "metadata": {},
   "outputs": [],
   "source": [
    "!del build.log > NUL 2>&1\n",
    "!rmdir /S /Q build  >> build.log 2>&1\n",
    "!rmdir /S /Q dist  >> build.log 2>&1\n",
    "!rmdir /S /Q src\\SpectrogramUtils.egg-info  >> build.log 2>&1\n",
    "!python3 setup.py sdist bdist_wheel >> build.log 2>&1"
   ]
  },
  {
   "cell_type": "markdown",
   "metadata": {},
   "source": [
    "## Local uninstall > install"
   ]
  },
  {
   "cell_type": "code",
   "execution_count": null,
   "metadata": {},
   "outputs": [],
   "source": [
    "!pip uninstall SpectrogramUtils -y\n",
    "!pip install . -v"
   ]
  },
  {
   "cell_type": "markdown",
   "metadata": {},
   "source": [
    "## Remote uninstall > install"
   ]
  },
  {
   "cell_type": "code",
   "execution_count": null,
   "metadata": {},
   "outputs": [],
   "source": [
    "!pip uninstall SpectrogramUtils -y\n",
    "!pip install SpectrogramUtils"
   ]
  },
  {
   "cell_type": "markdown",
   "metadata": {},
   "source": [
    "## Run test"
   ]
  },
  {
   "cell_type": "markdown",
   "metadata": {},
   "source": [
    "#### Linux / Windows"
   ]
  },
  {
   "cell_type": "code",
   "execution_count": 36,
   "metadata": {},
   "outputs": [],
   "source": [
    "import subprocess\n",
    "import os\n",
    "MIN_COVER = 0\n",
    "log_path = os.path.normpath(\"test/test.log\")\n",
    "if os.path.exists(log_path):\n",
    "    os.remove(log_path)\n",
    "result = subprocess.run([\"python\", \"-m\", \"pytest\", \"--cov=src\", \"--cov-report=html:test/htmlcov\", f\"--cov-fail-under={MIN_COVER}\", \"test/\"],stdout=open(log_path, \"w\"),stderr=subprocess.STDOUT)\n",
    "exc = result.returncode\n",
    "if exc != 0:\n",
    "    print(f\"Test fails. Exit code {exc}\")\n",
    "    print(f\"Check log file : {log_path} for more info\")\n",
    "else:\n",
    "    if os.name == 'nt':\n",
    "        os.startfile(os.path.normpath(\"test/htmlcov/index.html\"))\n",
    "    elif os.name == 'posix': \n",
    "        subprocess.run([\"open\", \"test/htmlcov/index.html\"])"
   ]
  }
 ],
 "metadata": {
  "kernelspec": {
   "display_name": "Python 3",
   "language": "python",
   "name": "python3"
  },
  "language_info": {
   "codemirror_mode": {
    "name": "ipython",
    "version": 3
   },
   "file_extension": ".py",
   "mimetype": "text/x-python",
   "name": "python",
   "nbconvert_exporter": "python",
   "pygments_lexer": "ipython3",
   "version": "3.11.9"
  }
 },
 "nbformat": 4,
 "nbformat_minor": 2
}
